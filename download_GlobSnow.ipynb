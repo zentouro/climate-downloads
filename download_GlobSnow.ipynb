{
 "cells": [
  {
   "cell_type": "markdown",
   "id": "e558d3f6-7e49-4f01-955e-036596ef9206",
   "metadata": {},
   "source": [
    "# Downloading GlobSnow\n",
    "\n",
    "Datapage: https://www.globsnow.info/index.php?page=Data"
   ]
  },
  {
   "cell_type": "markdown",
   "id": "554e9c6c-5e91-4314-9ea1-4046a6378229",
   "metadata": {},
   "source": [
    "Information on GlobSnow SWE product: \n",
    "\n",
    "The SWE product is projected to Equal-Area Scalable Earth Grid (EASE-Grid) and provides the whole Northern Hemisphere (lambert's equal-area azimuthal – projection) in a single data field. The nominal resolution of single pixel is 25 km x 25 km and the geometry of the pixels varies. The data field has the size of 721 x 721 (rows x columns). Although the EASE-Grid can represent data almost to the equator the product is limited between latitudes 35° and 85° for physical reasons.\n",
    "\n",
    "There are three products (all in the EASE-Grid) derived for SWE:\n",
    "- Daily Snow Water Equivalent (Daily L3A SWE), snow water equivalent (mm) for\n",
    "each grid cell for all evaluated land areas of the Northern Hemisphere.\n",
    "- Weekly Aggregated Snow Water Equivalent (Weekly L3B SWE), calculated for each day based on a 7-day sliding time window aggregation of the daily SWE\n",
    "product.\n",
    "- Monthly Aggregated Snow Water Equivalent (Monthly L3B SWE) a single\n",
    "product for each calendar month providing the average and maximum SWE,\n",
    "calculated from the weekly aggregated SWE product.\n",
    "\n",
    "In addition to the information on snow water equivalent, the SWE product includes information on the overall extent of snow cover. The information on snow extent is included in the product by utilizing the following coding for the SWE product, SWE values of:• \n",
    "- 0 mm denote snow-free areas (Snow Extent 0%)\n",
    "- 0.001 mm denote areas with melting snow (Snow Extent between 0% - 100%)\n",
    "- \\>0.001 mm denote areas with full snow cover (Snow Extent 100%)\n",
    "\n",
    "\n",
    "Sourced from: https://www.globsnow.info/se/GlobSnow2_SE_SWE_Product_User_Guide_v1_r1.pdf"
   ]
  },
  {
   "cell_type": "markdown",
   "id": "6eb29a79-b7bc-4940-ba85-db1525431b0a",
   "metadata": {},
   "source": [
    "data is located in two main folders:\n",
    "\n",
    "v3 archive: https://www.globsnow.info/swe/archive_v3.0/L3A_daily_SWE/NetCDF4/\n",
    "\n",
    "\n",
    "and nrt updates: https://www.globsnow.info/swe/nrt/"
   ]
  },
  {
   "cell_type": "code",
   "execution_count": 11,
   "id": "b044a5f4-2e62-4df9-b0d3-1906145b35db",
   "metadata": {
    "execution": {
     "iopub.execute_input": "2025-08-20T16:13:16.783757Z",
     "iopub.status.busy": "2025-08-20T16:13:16.782628Z",
     "iopub.status.idle": "2025-08-20T16:13:16.795961Z",
     "shell.execute_reply": "2025-08-20T16:13:16.794822Z",
     "shell.execute_reply.started": "2025-08-20T16:13:16.783695Z"
    }
   },
   "outputs": [],
   "source": [
    "v3_archive_save_dir = '/Users/miriam/Documents/02_academia/02_PhD/research/raw_data/GLEAM/forcing/GlobSnow/v3_archive/'\n",
    "nrt_updates_save_dir = '/Users/miriam/Documents/02_academia/02_PhD/research/raw_data/GLEAM/forcing/GlobSnow/nrt_updates/'"
   ]
  },
  {
   "cell_type": "markdown",
   "id": "b388759c-e1de-4fc7-8e96-28085c36aa91",
   "metadata": {},
   "source": [
    "### wget line explanation\n",
    "\n",
    "- P {v3_archive_save_dir} → puts all downloaded files into that folder (relative to your notebook).\n",
    "- r → recursive (go through links).\n",
    "- np → no parent (don’t crawl above the directory).\n",
    "- nH and --cut-dirs=4 → remove the long directory prefix so you don’t end up with deep nested folders.\n",
    "- R \"index.html*\" → ignore the HTML index pages."
   ]
  },
  {
   "cell_type": "code",
   "execution_count": 16,
   "id": "7b122e1d-53db-4ed5-920e-5eb6dc3b41ba",
   "metadata": {
    "execution": {
     "iopub.execute_input": "2025-08-20T16:42:56.226130Z",
     "iopub.status.busy": "2025-08-20T16:42:56.225207Z",
     "iopub.status.idle": "2025-08-20T16:42:56.232627Z",
     "shell.execute_reply": "2025-08-20T16:42:56.231393Z",
     "shell.execute_reply.started": "2025-08-20T16:42:56.226076Z"
    },
    "scrolled": true
   },
   "outputs": [],
   "source": [
    "## starting with the archive\n",
    "\n",
    "## download directly into project folder\n",
    "# !wget -r -np -nH --cut-dirs=4 -R \"index.html*\" https://www.globsnow.info/swe/archive_v3.0/L3A_daily_SWE/NetCDF4/\n",
    "\n",
    "## download into specified directory\n",
    "# !wget -r -np -nH --cut-dirs=4 -R \"index.html*\" -N -P \"{v3_archive_save_dir}\" https://www.globsnow.info/swe/archive_v3.0/L3A_daily_SWE/NetCDF4/\n",
    "\n",
    "## wget -r -np -nH --cut-dirs=4 -R \"index.html*\" -N -P \"/Users/miriam/Documents/02_academia/02_PhD/research/raw_data/GLEAM/forcing/GlobSnow/v3_archive/\" https://www.globsnow.info/swe/archive_v3.0/L3A_daily_SWE/NetCDF4/"
   ]
  },
  {
   "cell_type": "markdown",
   "id": "7fbce4a8-8d75-403f-bc64-a86561f09c46",
   "metadata": {},
   "source": [
    "### wget line explanation\n",
    "\n",
    "- r → recursive.\n",
    "- np → no parent (don’t crawl above /nrt/).\n",
    "- nH → don’t create a www.globsnow.info folder.\n",
    "- -cut-dirs=2 → trims the leading /swe/nrt/ from the path so your download dir doesn’t get too nested.\n",
    "- A \"*.nc.gz\" → accept only .nc.gz files (skip HTML, empty dirs, etc.).\n",
    "- P \"{nrt_updates_save_dir}\" → put everything into your chosen save directory."
   ]
  },
  {
   "cell_type": "code",
   "execution_count": 17,
   "id": "483be1e4-10a0-486a-b24e-efb44e3563b8",
   "metadata": {
    "execution": {
     "iopub.execute_input": "2025-08-20T16:42:56.819641Z",
     "iopub.status.busy": "2025-08-20T16:42:56.819116Z",
     "iopub.status.idle": "2025-08-20T16:42:56.827564Z",
     "shell.execute_reply": "2025-08-20T16:42:56.822848Z",
     "shell.execute_reply.started": "2025-08-20T16:42:56.819612Z"
    }
   },
   "outputs": [],
   "source": [
    "## download nrt files\n",
    "#!wget -r -np -nH --cut-dirs=2 -A \"*.nc.gz\" -P \"{nrt_updates_save_dir}\" https://www.globsnow.info/swe/nrt/\n",
    "\n",
    "## download and check to not overwrite\n",
    "#!wget -r -np -nH --cut-dirs=2 -A \"*.nc.gz\" -N -P \"{v3_nrt_save_dir}\" https://www.globsnow.info/swe/nrt/\n",
    "\n",
    "## wget -r -np -nH --cut-dirs=2 -A \"*.nc.gz\" -N -P \"/Users/miriam/Documents/02_academia/02_PhD/research/raw_data/GLEAM/forcing/GlobSnow/nrt_updates/\" https://www.globsnow.info/swe/nrt/\n",
    "\n",
    "## decompress any newly-downloaded ones (skip if already decompressed)\n",
    "#!find \"{v3_nrt_save_dir}\" -name \"*.gz\" -exec gunzip -n {} \\;\n",
    "## find \"/Users/miriam/Documents/02_academia/02_PhD/research/raw_data/GLEAM/forcing/GlobSnow/nrt_updates/\" -name \"*.gz\" -exec gunzip -n {} \\;"
   ]
  },
  {
   "cell_type": "code",
   "execution_count": null,
   "id": "ec944d63-e474-49ee-8fc6-817e119b1961",
   "metadata": {},
   "outputs": [],
   "source": []
  },
  {
   "cell_type": "code",
   "execution_count": null,
   "id": "722b0ad8-9b32-4c83-ad8a-4abde4579725",
   "metadata": {},
   "outputs": [],
   "source": []
  }
 ],
 "metadata": {
  "kernelspec": {
   "display_name": "Python 3 (ipykernel)",
   "language": "python",
   "name": "python3"
  },
  "language_info": {
   "codemirror_mode": {
    "name": "ipython",
    "version": 3
   },
   "file_extension": ".py",
   "mimetype": "text/x-python",
   "name": "python",
   "nbconvert_exporter": "python",
   "pygments_lexer": "ipython3",
   "version": "3.9.10"
  }
 },
 "nbformat": 4,
 "nbformat_minor": 5
}
