{
 "cells": [
  {
   "cell_type": "markdown",
   "id": "61cc2876-50f6-44f8-9cc5-3305bca82a56",
   "metadata": {},
   "source": [
    "# Downloading NLDAS Data"
   ]
  },
  {
   "cell_type": "markdown",
   "id": "94f7eea7-a789-4ad4-981f-c57f541e3b92",
   "metadata": {},
   "source": [
    "[THIS CODE IS ONLY SLIGHTLY ADJUSTED FROM A SCRIPT WRITTEN BY KEVIN SCHARZWALD]\n",
    "\n",
    "NLDAS files are available in hourly timesteps: ERA5 files are available in hourly timesteps; this code allows for resampling the data at lower frequencies (see the section on [Subsetting and Resampling](#subset)).\n",
    "\n",
    "\n",
    "....\n",
    "\n",
    "\n",
    "\n",
    "Files are placed in a subdirectory of the `raw_data_dir` set in the `dwnld_config.py` file `[raw_data_dir]/ERA5/`. If this subdirectory doesn't yet exist, it is created. Output files have the following filename: \n",
    "\n",
    "`[raw_data_dir]/NLDAS/[short_name]_[output_freq_name]_NLDAS_[MODEL and/or FORCING]_[allyears[0]0101-allyears[-1]1231]_[fn_suffix].nc` \n",
    "\n",
    "with `[raw_data_dir]` set from the `config` file, `[short_name]` set in the `download_vars`, `output_freq_name` set in the `resampling_vars` (unless no time resampling is conducted; in this case `_hr_` is used), and `fn_suffix` set in the `geographic_vars`. "
   ]
  },
  {
   "cell_type": "markdown",
   "id": "cadf5996-bc5f-4d75-9d75-730ac26f565a",
   "metadata": {},
   "source": [
    "# Setup"
   ]
  },
  {
   "cell_type": "markdown",
   "id": "230ec517-f60e-4c94-986a-9ce5aa76502a",
   "metadata": {},
   "source": [
    "## Packages"
   ]
  },
  {
   "cell_type": "code",
   "execution_count": 10,
   "id": "1dcef2bb-47ff-4d51-b6a4-e0dd1cccdae6",
   "metadata": {},
   "outputs": [],
   "source": [
    "import xarray as xr\n",
    "import numpy as np\n",
    "import datetime as dt\n",
    "import os\n",
    "from tqdm.notebook import tqdm\n",
    "import re\n",
    "%matplotlib inline\n",
    "\n"
   ]
  },
  {
   "cell_type": "code",
   "execution_count": 4,
   "id": "6e8cdd9f-094d-424c-9efe-d1c27af74f02",
   "metadata": {},
   "outputs": [],
   "source": [
    "# Get config file \n",
    "import dwnld_config as cfg"
   ]
  },
  {
   "cell_type": "code",
   "execution_count": 5,
   "id": "8c110b67-1df9-46ce-8e83-d77b434083c6",
   "metadata": {},
   "outputs": [],
   "source": [
    "# Set years to process\n",
    "all_years = np.arange(1979,2015)\n",
    "#all_years = np.arange(1979, 1980)\n",
    "\n",
    "# How many years to be processed at a time (may impact performance; detailed checks forthcoming)\n",
    "chunk_size = 5"
   ]
  },
  {
   "cell_type": "markdown",
   "id": "7661d177-c3ae-408d-9e89-6ac5f6eff7e8",
   "metadata": {},
   "source": [
    "GLDAS data is released as hourly data. This code supports resampling using the `xarray.Dataset.resample()` function ([docs here](http://xarray.pydata.org/en/stable/generated/xarray.Dataset.resample.html)), which is based on the `pandas.resample()` functionality. The next cell adjusts whether data is resampled. \n",
    "\n",
    "The `resample_level` value is piped into the `freq` call of the `.resample` indexer. Useful, common options include: \n",
    "- `D`: daily\n",
    "- `M`: month (end)\n",
    "- `MS`: month (beginning)\n",
    "\n",
    "A full list of options is available in the `pandas` documentation [here](https://pandas.pydata.org/pandas-docs/stable/user_guide/timeseries.html#dateoffset-objects)."
   ]
  },
  {
   "cell_type": "code",
   "execution_count": 6,
   "id": "9b183818-28fb-476f-afcf-2a19e47aed2f",
   "metadata": {},
   "outputs": [],
   "source": [
    "# Set resampling\n",
    "resampling_vars = {'resamp':True, # whether to resample from hourly (if false, the rest is ignored)\n",
    "                   'resample_level':'D', # what level to resample to \n",
    "                   'output_freq_name':'day'} # what the frequency should be called in the filename, attributes"
   ]
  },
  {
   "cell_type": "code",
   "execution_count": 7,
   "id": "5c7f5ca2-a363-40a8-9d48-3347b296c5a9",
   "metadata": {},
   "outputs": [
    {
     "data": {
      "text/plain": [
       "'/Users/miriam/Documents/02_academia/02_PhD/research/raw_data/'"
      ]
     },
     "execution_count": 7,
     "metadata": {},
     "output_type": "execute_result"
    }
   ],
   "source": [
    "cfg.lpaths['raw_data_dir']"
   ]
  },
  {
   "cell_type": "markdown",
   "id": "738f5106-29a4-4343-80ac-b1a4f277a153",
   "metadata": {},
   "source": [
    "# Downloading \n"
   ]
  },
  {
   "cell_type": "code",
   "execution_count": 8,
   "id": "413dc079-ff78-4bdd-8084-eea1c26925c6",
   "metadata": {},
   "outputs": [],
   "source": [
    "if not os.path.exists(cfg.lpaths['raw_data_dir']):\n",
    "    os.mkdir(cfg.lpaths['raw_data_dir'])\n",
    "    print(cfg.lpaths['raw_data_dir']+' created')"
   ]
  },
  {
   "cell_type": "code",
   "execution_count": null,
   "id": "3fab7ae9-1fbf-4ed0-9082-7917df0655d0",
   "metadata": {},
   "outputs": [],
   "source": []
  },
  {
   "cell_type": "code",
   "execution_count": null,
   "id": "448b9367-7efa-47b8-ad82-4b85b119463f",
   "metadata": {},
   "outputs": [],
   "source": []
  }
 ],
 "metadata": {
  "kernelspec": {
   "display_name": "Python 3 (ipykernel)",
   "language": "python",
   "name": "python3"
  },
  "language_info": {
   "codemirror_mode": {
    "name": "ipython",
    "version": 3
   },
   "file_extension": ".py",
   "mimetype": "text/x-python",
   "name": "python",
   "nbconvert_exporter": "python",
   "pygments_lexer": "ipython3",
   "version": "3.9.10"
  }
 },
 "nbformat": 4,
 "nbformat_minor": 5
}
